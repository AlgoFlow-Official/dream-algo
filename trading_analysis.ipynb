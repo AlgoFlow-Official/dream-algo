import pandas as pd
import matplotlib.pyplot as plt

# Load dataset
df = pd.read_csv("data/dataset_intraday.csv")

# Show first 10 rows
df.head(10)
